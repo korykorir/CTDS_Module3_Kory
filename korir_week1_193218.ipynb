{
 "cells": [
  {
   "cell_type": "markdown",
   "metadata": {},
   "source": [
    "Stephen Korir\n",
    "\n",
    "Computational Techniques\n",
    "\n",
    "193218"
   ]
  },
  {
   "cell_type": "code",
   "execution_count": 1,
   "metadata": {},
   "outputs": [
    {
     "name": "stdout",
     "output_type": "stream",
     "text": [
      "Requirement already satisfied: cvxpy in /opt/anaconda3/lib/python3.12/site-packages (1.6.2)\n",
      "Requirement already satisfied: osqp>=0.6.2 in /opt/anaconda3/lib/python3.12/site-packages (from cvxpy) (0.6.7.post3)\n",
      "Requirement already satisfied: clarabel>=0.5.0 in /opt/anaconda3/lib/python3.12/site-packages (from cvxpy) (0.10.0)\n",
      "Requirement already satisfied: scs>=3.2.4.post1 in /opt/anaconda3/lib/python3.12/site-packages (from cvxpy) (3.2.7.post2)\n",
      "Requirement already satisfied: numpy>=1.21.6 in /opt/anaconda3/lib/python3.12/site-packages (from cvxpy) (1.26.4)\n",
      "Requirement already satisfied: scipy>=1.11.0 in /opt/anaconda3/lib/python3.12/site-packages (from cvxpy) (1.13.1)\n",
      "Requirement already satisfied: qdldl in /opt/anaconda3/lib/python3.12/site-packages (from osqp>=0.6.2->cvxpy) (0.1.7.post5)\n"
     ]
    }
   ],
   "source": [
    "!pip install cvxpy"
   ]
  },
  {
   "cell_type": "markdown",
   "metadata": {},
   "source": [
    "## Question 1\n",
    "\n",
    "Question: Supply Chain Optimization under Demand Uncertainty\n",
    "Consider Supply Chain Optimization under Demand Uncertainty. Demand for electronic\n",
    "supply in Nairobi in the past two weeks together with their respective probability is given\n",
    "below\n",
    "Number 255 302 270 317 285 332 300 347 315 362 330 262 309 277\n",
    "Prob 0.03 0.15 0.04 0.1 0.05 0.05 0.09 0.01 0.09 0.03 0.2 0.07 0.05 0.04\n",
    "\n",
    "Consider constraints = [supply >= 120, supply <= 330]. Compute the optimal supply."
   ]
  },
  {
   "cell_type": "code",
   "execution_count": 2,
   "metadata": {},
   "outputs": [
    {
     "name": "stdout",
     "output_type": "stream",
     "text": [
      "Optimal supply: 249.3443890640451\n"
     ]
    }
   ],
   "source": [
    "import cvxpy as cp\n",
    "import numpy as np\n",
    "\n",
    "# Demand data and probabilities\n",
    "demand = np.array([255, 302, 270, 317, 285, 332, 300, 347, 315, 362, 330, 262, 309, 277])\n",
    "probabilities = np.array([0.03, 0.15, 0.04, 0.1, 0.05, 0.05, 0.09, 0.01, 0.09, 0.03, 0.2, 0.07, 0.05, 0.04])\n",
    "\n",
    "# Define the decision variable (supply)\n",
    "x = cp.Variable()\n",
    "\n",
    "\n",
    "\n",
    "# Define the expected cost\n",
    "expected_cost = cp.sum(cp.multiply(probabilities, cp.pos(x-demand)))\n",
    "\n",
    "#objective\n",
    "objective = cp.Minimize(expected_cost)\n",
    "# Define the constraints\n",
    "constraints = [x >= 120, x <= 330]\n",
    "\n",
    "# Define the problem\n",
    "problem = cp.Problem(objective, constraints)\n",
    "\n",
    "# Solve the problem\n",
    "problem.solve()\n",
    "\n",
    "# Print the optimal supply\n",
    "print(\"Optimal supply:\", x.value)"
   ]
  },
  {
   "cell_type": "markdown",
   "metadata": {},
   "source": [
    "## Question 2\n",
    "\n",
    "Consider ICU Bed Allocation under Uncertain Patient Arrivals. Number of unscheduled\n",
    "arrivals at Kenyatta National Hospital in the last 10 days has been 25, 20, 30, 50, 27, 39, 42,\n",
    "29, 35, 42 patients with assigned probabilities 0.1, 0.1, 0.08, 0.15, 0.09, 0.05, 0.1, 0.1, 0.13,\n",
    "0.1respectively. Consider bed constraints = [beds >= 17, beds <= 55]. Compute the\n",
    "Optimal number of ICU beds allocation."
   ]
  },
  {
   "cell_type": "code",
   "execution_count": 3,
   "metadata": {},
   "outputs": [
    {
     "name": "stdout",
     "output_type": "stream",
     "text": [
      "Optimal ICU Beds: 19.628282074057484\n"
     ]
    }
   ],
   "source": [
    "import cvxpy as cp\n",
    "import numpy as np\n",
    "\n",
    "# Given data\n",
    "patient_arrivals = np.array([25, 20, 30, 50, 27, 39, 42, 29, 35, 42])\n",
    "probabilities = np.array([0.1, 0.1, 0.08, 0.15, 0.09, 0.05, 0.1, 0.1, 0.13, 0.1])\n",
    "\n",
    "# Define the decision variable (supply)\n",
    "x = cp.Variable()\n",
    "\n",
    "\n",
    "\n",
    "# Define the expected cost\n",
    "expected_cost = cp.sum(cp.multiply(probabilities, cp.pos(x-patient_arrivals)))\n",
    "\n",
    "#objective\n",
    "objective = cp.Minimize(expected_cost)\n",
    "# Define the constraints\n",
    "constraints = [x >= 17, x <= 55]\n",
    "\n",
    "# Define the problem\n",
    "problem = cp.Problem(objective, constraints)\n",
    "\n",
    "# Solve the problem\n",
    "problem.solve()\n",
    "# Output the results\n",
    "print(\"Optimal ICU Beds:\", x.value)\n"
   ]
  }
 ],
 "metadata": {
  "kernelspec": {
   "display_name": "base",
   "language": "python",
   "name": "python3"
  },
  "language_info": {
   "codemirror_mode": {
    "name": "ipython",
    "version": 3
   },
   "file_extension": ".py",
   "mimetype": "text/x-python",
   "name": "python",
   "nbconvert_exporter": "python",
   "pygments_lexer": "ipython3",
   "version": "3.12.2"
  }
 },
 "nbformat": 4,
 "nbformat_minor": 2
}
