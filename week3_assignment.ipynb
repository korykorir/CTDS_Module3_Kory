{
 "cells": [
  {
   "cell_type": "markdown",
   "metadata": {},
   "source": [
    "# Computational Techniques for Data Science\n",
    "## Module 3\n",
    "## Stephen Korir\n",
    "## 193218\n",
    "## Week 3(Objective Functions, Constraints, Decision Variables, Transportation Problems)"
   ]
  },
  {
   "cell_type": "markdown",
   "metadata": {},
   "source": [
    "# Question 1"
   ]
  },
  {
   "cell_type": "markdown",
   "metadata": {},
   "source": [
    "This is a linear programming transportation problem, where\n",
    "- we have Suppliers(warehouses), Receivers(Stores) and costs of transporting from warehouse i to store j\n",
    "\n",
    "Our goal is to minimize the total transportation cost by;\n",
    "* Never sending more than what the warehose can supply\n",
    "* FUlly meeting the store demands\n",
    "* Not sending negative amounts\n",
    "\n",
    "1. Variables\n",
    "We let Xij represent the units we send from warehouse i to store j. \n",
    "There are 3 warehouse and 4 stores which means we have 12 decision variables, one for each route\n",
    "\n",
    "2. Objective Function\n",
    "\n",
    "We know the cost per unit for each path as outlined in the table . So we will just multiply each variable by the unit cost, then sum them up. \n",
    "\n",
    "3. Constarints\n",
    "\n",
    "- Each warehouse can only send upto its supply\n",
    "- Each store muct receive exactly what it needs\n",
    "- You cannot ship negative quantities"
   ]
  },
  {
   "cell_type": "code",
   "execution_count": 1,
   "metadata": {},
   "outputs": [],
   "source": [
    "#Objective function\n",
    "# Cost coefficients\n",
    "c = [4, 3, 6, 5, 2, 5, 3, 4, 7, 6, 4, 3]\n"
   ]
  },
  {
   "cell_type": "code",
   "execution_count": 2,
   "metadata": {},
   "outputs": [],
   "source": [
    "# Constraints\n",
    "A_eq = [\n",
    "    [1, 0, 0, 0, 1, 0, 0, 0, 1, 0, 0, 0],\n",
    "    [0, 1, 0, 0, 0, 1, 0, 0, 0, 1, 0, 0],\n",
    "    [0, 0, 1, 0, 0, 0, 1, 0, 0, 0, 1, 0],\n",
    "    [0, 0, 0, 1, 0, 0, 0, 1, 0, 0, 0, 1],\n",
    "]\n",
    "b_eq = [200, 200, 250, 300]\n",
    "\n",
    "A_ub = [\n",
    "    [1, 1, 1, 1, 0, 0, 0, 0, 0, 0, 0, 0],\n",
    "    [0, 0, 0, 0, 1, 1, 1, 1, 0, 0, 0, 0],\n",
    "    [0, 0, 0, 0, 0, 0, 0, 0, 1, 1, 1, 1],\n",
    "]\n",
    "b_ub = [250, 300, 400]\n",
    "\n",
    "# Variable bounds\n",
    "bounds = [(0, None) for _ in range(12)]\n"
   ]
  },
  {
   "cell_type": "code",
   "execution_count": 3,
   "metadata": {},
   "outputs": [
    {
     "name": "stdout",
     "output_type": "stream",
     "text": [
      "Optimal solution found!\n",
      "Total cost: 2850.0\n",
      "Shipments:\n",
      "From W1 to S1: 50.00 units\n",
      "From W1 to S2: 200.00 units\n",
      "From W1 to S3: 0.00 units\n",
      "From W1 to S4: 0.00 units\n",
      "From W2 to S1: 150.00 units\n",
      "From W2 to S2: 0.00 units\n",
      "From W2 to S3: 150.00 units\n",
      "From W2 to S4: 0.00 units\n",
      "From W3 to S1: 0.00 units\n",
      "From W3 to S2: 0.00 units\n",
      "From W3 to S3: 100.00 units\n",
      "From W3 to S4: 300.00 units\n"
     ]
    }
   ],
   "source": [
    "from scipy.optimize import linprog\n",
    "\n",
    "\n",
    "# Solve\n",
    "result = linprog(c, A_ub=A_ub, b_ub=b_ub, A_eq=A_eq, b_eq=b_eq, bounds=bounds, method='highs')\n",
    "\n",
    "# Output\n",
    "if result.success:\n",
    "    print(\"Optimal solution found!\")\n",
    "    print(\"Total cost:\", result.fun)\n",
    "    print(\"Shipments:\")\n",
    "    for i, x in enumerate(result.x):\n",
    "        w = i // 4 + 1\n",
    "        s = i % 4 + 1\n",
    "        print(f\"From W{w} to S{s}: {x:.2f} units\")\n",
    "else:\n",
    "    print(\"No solution found:\", result.message)\n"
   ]
  },
  {
   "cell_type": "markdown",
   "metadata": {},
   "source": [
    "# Question 2\n"
   ]
  },
  {
   "cell_type": "markdown",
   "metadata": {},
   "source": [
    "This is a linear manufatcuring LP problem where we want to maximiza profits with the avail;able resources in the productions of Products A and B with machines M1 and M2 with 600hrs and 500 hrs available respectively. \n",
    "\n",
    "\n",
    "Max Z = 50x1 + 80 x2\n",
    "\n",
    "x1 > 0\n",
    "\n",
    "x2 > 0\n",
    "\n",
    "\n",
    "Linprog always minimizes and to get maximization we introduce a **negative(-)** to the Objective function."
   ]
  },
  {
   "cell_type": "code",
   "execution_count": 4,
   "metadata": {},
   "outputs": [],
   "source": [
    "#cost coeeficeints\n",
    "\n",
    "c =[-50,-80]\n",
    "\n"
   ]
  },
  {
   "cell_type": "code",
   "execution_count": 5,
   "metadata": {},
   "outputs": [],
   "source": [
    "# Constraints\n",
    "A_eq=[[3,5],[2,4]]\n",
    "b_eq = [600,500]\n"
   ]
  },
  {
   "cell_type": "code",
   "execution_count": 6,
   "metadata": {},
   "outputs": [],
   "source": [
    "bounds = [(0, None), (0, None)]"
   ]
  },
  {
   "cell_type": "code",
   "execution_count": 7,
   "metadata": {},
   "outputs": [],
   "source": [
    "#solve the LP problem\n",
    "res = linprog(c, A_ub=A_eq, b_ub=b_eq,  bounds=bounds, method='highs')"
   ]
  },
  {
   "cell_type": "code",
   "execution_count": 8,
   "metadata": {},
   "outputs": [
    {
     "data": {
      "text/plain": [
       "        message: Optimization terminated successfully. (HiGHS Status 7: Optimal)\n",
       "        success: True\n",
       "         status: 0\n",
       "            fun: -10000.0\n",
       "              x: [ 2.000e+02  0.000e+00]\n",
       "            nit: 1\n",
       "          lower:  residual: [ 2.000e+02  0.000e+00]\n",
       "                 marginals: [ 0.000e+00  3.333e+00]\n",
       "          upper:  residual: [       inf        inf]\n",
       "                 marginals: [ 0.000e+00  0.000e+00]\n",
       "          eqlin:  residual: []\n",
       "                 marginals: []\n",
       "        ineqlin:  residual: [ 0.000e+00  1.000e+02]\n",
       "                 marginals: [-1.667e+01 -0.000e+00]\n",
       " mip_node_count: 0\n",
       " mip_dual_bound: 0.0\n",
       "        mip_gap: 0.0"
      ]
     },
     "execution_count": 8,
     "metadata": {},
     "output_type": "execute_result"
    }
   ],
   "source": [
    "res"
   ]
  },
  {
   "cell_type": "code",
   "execution_count": 9,
   "metadata": {},
   "outputs": [
    {
     "name": "stdout",
     "output_type": "stream",
     "text": [
      "Optimal solution found!\n",
      "max Profit: 10000.0\n",
      "Products:\n",
      "A: 200.00 units\n",
      "B: 0.00 units\n"
     ]
    }
   ],
   "source": [
    "#print the results\n",
    "\n",
    "print(\"Optimal solution found!\")\n",
    "print(\"max Profit:\", -res.fun)\n",
    "print(\"Products:\")\n",
    "print(f\"A: {res.x[0]:.2f} units\")\n",
    "print(f\"B: {res.x[1]:.2f} units\")"
   ]
  },
  {
   "cell_type": "markdown",
   "metadata": {},
   "source": [
    "# Question 3"
   ]
  },
  {
   "cell_type": "markdown",
   "metadata": {},
   "source": [
    "Manufacturing problem for Chairs and tables. The company has limited resources of\n",
    "wood and labor and wants to minimize the total production cost.\n",
    "\n",
    "Minimize Z = 30x1 + 50x2\n",
    "\n",
    "where x1 -> No of chairs produced\n",
    "\n",
    "x2 -> Number of tables produced.\n",
    "\n",
    "We have the Resource contraints and Non Negativity condition\n",
    "\n",
    "Max wood -> 800\n",
    "\n",
    "Max labor -> 300\n",
    "\n",
    "x1 > 0\n",
    "\n",
    "x2 > 0"
   ]
  },
  {
   "cell_type": "code",
   "execution_count": 10,
   "metadata": {},
   "outputs": [],
   "source": [
    "#Objective fucntion\n",
    "\n",
    "c = [30, 50]"
   ]
  },
  {
   "cell_type": "code",
   "execution_count": 11,
   "metadata": {},
   "outputs": [],
   "source": [
    "#Constatints\n",
    "A_eq = [[5,8], [2,3]]\n",
    "b_eq = [800, 300]"
   ]
  },
  {
   "cell_type": "code",
   "execution_count": 12,
   "metadata": {},
   "outputs": [],
   "source": [
    "#Non-negativity constraints\n",
    "bounds = [(0, None), (0, None)]"
   ]
  },
  {
   "cell_type": "code",
   "execution_count": 13,
   "metadata": {},
   "outputs": [],
   "source": [
    "#solve the LP problem\n",
    "res = linprog(c, A_eq=A_eq, b_eq=b_eq, bounds=bounds, method='highs')"
   ]
  },
  {
   "cell_type": "code",
   "execution_count": 14,
   "metadata": {},
   "outputs": [
    {
     "data": {
      "text/plain": [
       "        message: Optimization terminated successfully. (HiGHS Status 7: Optimal)\n",
       "        success: True\n",
       "         status: 0\n",
       "            fun: 2850.0\n",
       "              x: [ 5.000e+01  2.000e+02  0.000e+00  0.000e+00  1.500e+02\n",
       "                   0.000e+00  1.500e+02  0.000e+00  0.000e+00  0.000e+00\n",
       "                   1.000e+02  3.000e+02]\n",
       "            nit: 6\n",
       "          lower:  residual: [ 5.000e+01  2.000e+02  0.000e+00  0.000e+00\n",
       "                              1.500e+02  0.000e+00  1.500e+02  0.000e+00\n",
       "                              0.000e+00  0.000e+00  1.000e+02  3.000e+02]\n",
       "                 marginals: [ 0.000e+00  0.000e+00  1.000e+00  1.000e+00\n",
       "                              0.000e+00  4.000e+00  0.000e+00  2.000e+00\n",
       "                              4.000e+00  4.000e+00  0.000e+00  0.000e+00]\n",
       "          upper:  residual: [       inf        inf        inf        inf\n",
       "                                    inf        inf        inf        inf\n",
       "                                    inf        inf        inf        inf]\n",
       "                 marginals: [ 0.000e+00  0.000e+00  0.000e+00  0.000e+00\n",
       "                              0.000e+00  0.000e+00  0.000e+00  0.000e+00\n",
       "                              0.000e+00  0.000e+00  0.000e+00  0.000e+00]\n",
       "          eqlin:  residual: [ 0.000e+00  0.000e+00  0.000e+00  0.000e+00]\n",
       "                 marginals: [ 4.000e+00  3.000e+00  5.000e+00  4.000e+00]\n",
       "        ineqlin:  residual: [ 0.000e+00  0.000e+00  0.000e+00]\n",
       "                 marginals: [-0.000e+00 -2.000e+00 -1.000e+00]\n",
       " mip_node_count: 0\n",
       " mip_dual_bound: 0.0\n",
       "        mip_gap: 0.0"
      ]
     },
     "execution_count": 14,
     "metadata": {},
     "output_type": "execute_result"
    }
   ],
   "source": [
    "result"
   ]
  },
  {
   "cell_type": "code",
   "execution_count": 15,
   "metadata": {},
   "outputs": [
    {
     "name": "stdout",
     "output_type": "stream",
     "text": [
      "Optimal solution found\n",
      "Chairs to produce: 50.00\n",
      "Tables to produce: 200.00\n",
      "Minimum Cost: $2850.00\n"
     ]
    }
   ],
   "source": [
    "#print the results\n",
    "\n",
    "if result.success:\n",
    "    print(\"Optimal solution found\")\n",
    "    print(f\"Chairs to produce: {result.x[0]:.2f}\")\n",
    "    print(f\"Tables to produce: {result.x[1]:.2f}\")\n",
    "    print(f\"Minimum Cost: ${result.fun:.2f}\")\n",
    "else:\n",
    "    print(\"No solution found:\", result.message)\n"
   ]
  }
 ],
 "metadata": {
  "kernelspec": {
   "display_name": "base",
   "language": "python",
   "name": "python3"
  },
  "language_info": {
   "codemirror_mode": {
    "name": "ipython",
    "version": 3
   },
   "file_extension": ".py",
   "mimetype": "text/x-python",
   "name": "python",
   "nbconvert_exporter": "python",
   "pygments_lexer": "ipython3",
   "version": "3.12.2"
  }
 },
 "nbformat": 4,
 "nbformat_minor": 2
}
