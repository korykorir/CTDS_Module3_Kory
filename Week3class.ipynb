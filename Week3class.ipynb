{
 "cells": [
  {
   "cell_type": "code",
   "execution_count": 4,
   "metadata": {},
   "outputs": [],
   "source": [
    "from scipy.optimize import linprog"
   ]
  },
  {
   "cell_type": "code",
   "execution_count": 2,
   "metadata": {},
   "outputs": [],
   "source": [
    "#objective function\n",
    "c = [-20,-30] #Negatives for maximization"
   ]
  },
  {
   "cell_type": "code",
   "execution_count": 5,
   "metadata": {},
   "outputs": [],
   "source": [
    "#Inequalities (Contraints)\n",
    "\n",
    "A = [[2,1],[1,2]]\n",
    "b = [100,80]"
   ]
  },
  {
   "cell_type": "code",
   "execution_count": 6,
   "metadata": {},
   "outputs": [],
   "source": [
    "x_bounds = (0, None)\n",
    "y_bounds = (0, None)"
   ]
  },
  {
   "cell_type": "code",
   "execution_count": 7,
   "metadata": {},
   "outputs": [],
   "source": [
    "#solve the LP problem\n",
    "res = linprog(c, A_ub=A, b_ub=b, bounds=[x_bounds, y_bounds], method='highs')"
   ]
  },
  {
   "cell_type": "code",
   "execution_count": 8,
   "metadata": {},
   "outputs": [
    {
     "data": {
      "text/plain": [
       "        message: Optimization terminated successfully. (HiGHS Status 7: Optimal)\n",
       "        success: True\n",
       "         status: 0\n",
       "            fun: -1400.0\n",
       "              x: [ 4.000e+01  2.000e+01]\n",
       "            nit: 2\n",
       "          lower:  residual: [ 4.000e+01  2.000e+01]\n",
       "                 marginals: [ 0.000e+00  0.000e+00]\n",
       "          upper:  residual: [       inf        inf]\n",
       "                 marginals: [ 0.000e+00  0.000e+00]\n",
       "          eqlin:  residual: []\n",
       "                 marginals: []\n",
       "        ineqlin:  residual: [ 0.000e+00  0.000e+00]\n",
       "                 marginals: [-3.333e+00 -1.333e+01]\n",
       " mip_node_count: 0\n",
       " mip_dual_bound: 0.0\n",
       "        mip_gap: 0.0"
      ]
     },
     "execution_count": 8,
     "metadata": {},
     "output_type": "execute_result"
    }
   ],
   "source": [
    "res"
   ]
  },
  {
   "cell_type": "code",
   "execution_count": 9,
   "metadata": {},
   "outputs": [
    {
     "name": "stdout",
     "output_type": "stream",
     "text": [
      "Optimal number of Product A: 40.0\n",
      "Optimal number of Product B: 20.0\n",
      "Maximum Profit: 1400.0\n"
     ]
    }
   ],
   "source": [
    "print(f'Optimal number of Product A: {res.x[0]}')\n",
    "print(f'Optimal number of Product B: {res.x[1]}')\n",
    "print(f'Maximum Profit: {res.fun*-1}') #Multiply by -1 to get the maximized value"
   ]
  },
  {
   "cell_type": "code",
   "execution_count": 5,
   "metadata": {},
   "outputs": [],
   "source": [
    "#objective function\n",
    "c = [3,5] #Negatives for maximization"
   ]
  },
  {
   "cell_type": "code",
   "execution_count": 6,
   "metadata": {},
   "outputs": [],
   "source": [
    "A = [[-500, -700],[-30,-20]]\n",
    "\n",
    "b = [-2000, -50]"
   ]
  },
  {
   "cell_type": "code",
   "execution_count": 7,
   "metadata": {},
   "outputs": [],
   "source": [
    "#solve the LP problem\n",
    "res = linprog(c, A_ub=A, b_ub=b, method='highs')\n"
   ]
  },
  {
   "cell_type": "code",
   "execution_count": 8,
   "metadata": {},
   "outputs": [
    {
     "data": {
      "text/plain": [
       "        message: Optimization terminated successfully. (HiGHS Status 7: Optimal)\n",
       "        success: True\n",
       "         status: 0\n",
       "            fun: 12.0\n",
       "              x: [ 4.000e+00  0.000e+00]\n",
       "            nit: 1\n",
       "          lower:  residual: [ 4.000e+00  0.000e+00]\n",
       "                 marginals: [ 0.000e+00  8.000e-01]\n",
       "          upper:  residual: [       inf        inf]\n",
       "                 marginals: [ 0.000e+00  0.000e+00]\n",
       "          eqlin:  residual: []\n",
       "                 marginals: []\n",
       "        ineqlin:  residual: [ 0.000e+00  7.000e+01]\n",
       "                 marginals: [-6.000e-03 -0.000e+00]\n",
       " mip_node_count: 0\n",
       " mip_dual_bound: 0.0\n",
       "        mip_gap: 0.0"
      ]
     },
     "execution_count": 8,
     "metadata": {},
     "output_type": "execute_result"
    }
   ],
   "source": [
    "res"
   ]
  },
  {
   "cell_type": "code",
   "execution_count": 10,
   "metadata": {},
   "outputs": [
    {
     "name": "stdout",
     "output_type": "stream",
     "text": [
      "Optimal calories 4.0\n",
      "Optimal proteins 0.0\n",
      "Minimum Cost: 12.0\n"
     ]
    }
   ],
   "source": [
    "print(f'Optimal calories {res.x[0]}')\n",
    "print(f'Optimal proteins {res.x[1]}')\n",
    "print(f'Minimum Cost: {res.fun}') #Multiply by -1 to get the maximized value"
   ]
  }
 ],
 "metadata": {
  "kernelspec": {
   "display_name": "base",
   "language": "python",
   "name": "python3"
  },
  "language_info": {
   "codemirror_mode": {
    "name": "ipython",
    "version": 3
   },
   "file_extension": ".py",
   "mimetype": "text/x-python",
   "name": "python",
   "nbconvert_exporter": "python",
   "pygments_lexer": "ipython3",
   "version": "3.12.2"
  }
 },
 "nbformat": 4,
 "nbformat_minor": 2
}
