{
 "cells": [
  {
   "cell_type": "markdown",
   "id": "01cc37f9",
   "metadata": {},
   "source": [
    "# Computational Techniques for Data Science\n",
    "## Module 3\n",
    "## Stephen Korir\n",
    "## 193218\n",
    "## Week 7"
   ]
  },
  {
   "cell_type": "markdown",
   "id": "56d88ed6",
   "metadata": {},
   "source": [
    "# Question 1"
   ]
  },
  {
   "cell_type": "markdown",
   "id": "a4900eba",
   "metadata": {},
   "source": [
    "## Fibonacci Problem – Plant Branch Growth\n",
    "\n",
    "A rare plant grows following a Fibonacci-like pattern. In the first cycle, it has 1 branch.\n",
    "In the second cycle, it grows 1 more. From the third cycle onward, the number of new\n",
    "branches equals the total number of branches in the previous two cycles.\n",
    "\n",
    "Task:\n",
    "\n",
    "How many branches will the plant have after 12 growth cycles?"
   ]
  },
  {
   "cell_type": "code",
   "execution_count": 1,
   "id": "9e0354c7",
   "metadata": {},
   "outputs": [
    {
     "name": "stdout",
     "output_type": "stream",
     "text": [
      "Branches after 12 cycles: 144\n"
     ]
    }
   ],
   "source": [
    "def fibonacci_growth(n):\n",
    "    fib = [1, 1]\n",
    "    for i in range(2, n):\n",
    "        fib.append(fib[-1] + fib[-2])\n",
    "    return fib[-1]\n",
    "\n",
    "branches_cycle_12 = fibonacci_growth(12)\n",
    "print(f\"Branches after 12 cycles: {branches_cycle_12}\")\n"
   ]
  },
  {
   "cell_type": "markdown",
   "id": "591d643b",
   "metadata": {},
   "source": [
    "# Question 2"
   ]
  },
  {
   "cell_type": "markdown",
   "id": "2002f88f",
   "metadata": {},
   "source": [
    "## LIS Problem – Student Score Trends\n",
    "\n",
    "A student's test scores over a semester are recorded as:\n",
    "\n",
    "[72, 74, 69, 78, 80, 81, 75, 85, 88, 70, 92]\n",
    "\n",
    "Task:\n",
    "\n",
    "Determine the longest consecutive sequence of scores where each score is higher than the last\n",
    "one (i.e., a strictly increasing subsequence).\n",
    "\n",
    "What is the length of this increasing trend?"
   ]
  },
  {
   "cell_type": "code",
   "execution_count": 2,
   "id": "8d1adc5a",
   "metadata": {},
   "outputs": [
    {
     "name": "stdout",
     "output_type": "stream",
     "text": [
      "Length of Longest Increasing Subsequence: 8\n"
     ]
    }
   ],
   "source": [
    "def longest_increasing_subsequence(arr):\n",
    "    n = len(arr)\n",
    "    lis = [1] * n\n",
    "    for i in range(1, n):\n",
    "        for j in range(i):\n",
    "            if arr[i] > arr[j]:\n",
    "                lis[i] = max(lis[i], lis[j] + 1)\n",
    "    return max(lis)\n",
    "\n",
    "scores = [72, 74, 69, 78, 80, 81, 75, 85, 88, 70, 92]\n",
    "lis_length = longest_increasing_subsequence(scores)\n",
    "print(f\"Length of Longest Increasing Subsequence: {lis_length}\")\n"
   ]
  },
  {
   "cell_type": "markdown",
   "id": "e101762e",
   "metadata": {},
   "source": [
    "# Question 3"
   ]
  },
  {
   "cell_type": "markdown",
   "id": "0922325f",
   "metadata": {},
   "source": [
    "Problem:\n",
    "You manage a server with 30 CPU units available. You have a list of 7 tasks, each requiring a\n",
    "certain number of CPU units and offering a reward in user satisfaction score:\n",
    "\n",
    "Task CPU\n",
    "     Time   Reward\n",
    "A      5    30\n",
    "B     10    40\n",
    "C      3    20\n",
    "D      8    50\n",
    "E      7    45\n",
    "F      4    25\n",
    "G      6    3\n",
    "\n",
    "\n",
    "Task:\n",
    "\n",
    "Which combination of tasks should you select to maximize the total reward without exceeding\n",
    "the 30 CPU unit limit?"
   ]
  },
  {
   "cell_type": "code",
   "execution_count": 3,
   "id": "d6b8da35",
   "metadata": {},
   "outputs": [
    {
     "name": "stdout",
     "output_type": "stream",
     "text": [
      "Max reward: 185, Selected Tasks: ['G', 'F', 'E', 'D', 'A']\n"
     ]
    }
   ],
   "source": [
    "def knapsack(cpu_units, tasks):\n",
    "    n = len(tasks)\n",
    "    dp = [[0] * (cpu_units + 1) for _ in range(n + 1)]\n",
    "    for i in range(1, n + 1):\n",
    "        cpu, reward = tasks[i - 1]\n",
    "        for w in range(cpu_units + 1):\n",
    "            if cpu > w:\n",
    "                dp[i][w] = dp[i - 1][w]\n",
    "            else:\n",
    "                dp[i][w] = max(dp[i - 1][w], dp[i - 1][w - cpu] + reward)\n",
    "    # Trace back to find selected tasks\n",
    "    selected = []\n",
    "    w = cpu_units\n",
    "    for i in range(n, 0, -1):\n",
    "        if dp[i][w] != dp[i - 1][w]:\n",
    "            selected.append(i - 1)\n",
    "            w -= tasks[i - 1][0]\n",
    "    return dp[n][cpu_units], selected\n",
    "\n",
    "# CPU requirement and reward for each task A–G\n",
    "tasks = [(5, 30), (10, 40), (3, 20), (8, 50), (7, 45), (4, 25), (6, 35)]\n",
    "task_names = ['A', 'B', 'C', 'D', 'E', 'F', 'G']\n",
    "\n",
    "max_reward, selected_indices = knapsack(30, tasks)\n",
    "selected_task_names = [task_names[i] for i in selected_indices]\n",
    "print(f\"Max reward: {max_reward}, Selected Tasks: {selected_task_names}\")\n"
   ]
  }
 ],
 "metadata": {
  "kernelspec": {
   "display_name": "Python 3",
   "language": "python",
   "name": "python3"
  },
  "language_info": {
   "codemirror_mode": {
    "name": "ipython",
    "version": 3
   },
   "file_extension": ".py",
   "mimetype": "text/x-python",
   "name": "python",
   "nbconvert_exporter": "python",
   "pygments_lexer": "ipython3",
   "version": "3.12.4"
  }
 },
 "nbformat": 4,
 "nbformat_minor": 5
}
