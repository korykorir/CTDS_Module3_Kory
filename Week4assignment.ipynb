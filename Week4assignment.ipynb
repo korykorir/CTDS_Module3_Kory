{
 "cells": [
  {
   "cell_type": "markdown",
   "metadata": {},
   "source": [
    "# Computational Techniques for Data Science\n",
    "## Module 3\n",
    "## Stephen Korir\n",
    "## 193218\n",
    "## Week 4"
   ]
  },
  {
   "cell_type": "markdown",
   "metadata": {},
   "source": [
    "# Question 1\n",
    "\n",
    "\n",
    "logistics company called Home Logistics wants to determine the most efficient route between two cities in a given road network. The network is represented as a graph where cities are nodes and roads are edges with weights corresponding to the travel distance (in kilometers). Given the following graph representation of a road network, write a Python program using Dijkstra’s Algorithm to find the shortest path from City A to City F."
   ]
  },
  {
   "cell_type": "code",
   "execution_count": 2,
   "metadata": {},
   "outputs": [],
   "source": [
    "#Imports\n",
    "import networkx as nx"
   ]
  },
  {
   "cell_type": "code",
   "execution_count": 1,
   "metadata": {},
   "outputs": [],
   "source": [
    "# Define the graph road network\n",
    "roads = {\n",
    "    'A': {'B': 4, 'C': 2},\n",
    "    'B': {'A': 4, 'C': 5, 'D': 10},\n",
    "    'C': {'A': 2, 'B': 5, 'D': 3, 'E': 8},\n",
    "    'D': {'B': 10, 'C': 3, 'E': 6, 'F': 2},\n",
    "    'E': {'C': 8, 'D': 6, 'F': 4},\n",
    "    'F': {'D': 2, 'E': 4}\n",
    "}"
   ]
  },
  {
   "cell_type": "code",
   "execution_count": 8,
   "metadata": {},
   "outputs": [
    {
     "name": "stdout",
     "output_type": "stream",
     "text": [
      "The shortest path from A to F is: ['A', 'C', 'D', 'F']\n",
      "The shortest distance from A to F is: 7\n"
     ]
    }
   ],
   "source": [
    "#Let us create a directed Graph\n",
    "\n",
    "G = nx.DiGraph()\n",
    "\n",
    "# Add nodes and edges to the graph\n",
    "for node, edges in roads.items():\n",
    "    G.add_node(node)\n",
    "    for neighbor, weight in edges.items():\n",
    "        G.add_edge(node, neighbor, weight=weight)\n",
    "\n",
    "#Define the start and End nodes\n",
    "start_city = 'A'\n",
    "end_city = 'F'\n",
    "\n",
    "#Use Dijkstra's algorithm to find the shortest path\n",
    "shortest_path = nx.dijkstra_path(G, start_city, end_city)\n",
    "shortest_distance = nx.dijkstra_path_length(G, start_city, end_city)\n",
    "# Print the results\n",
    "print(f\"The shortest path from {start_city} to {end_city} is: {shortest_path}\")\n",
    "print(f\"The shortest distance from {start_city} to {end_city} is: {shortest_distance}\")\n",
    "\n"
   ]
  },
  {
   "cell_type": "markdown",
   "metadata": {},
   "source": [
    "# Question 2\n",
    "\n",
    "Question 2: Influence Analysis in a Social Network (PageRank Algorithm) A social media platform wants to identify the most influential users based on follower relationships. The network is represented as a directed graph, where each user is a node, and an edge from user A to user B means that A follows B. Given the following directed graph of follower relationships, implement a Python program using the PageRank algorithm to rank users by influence.\n",
    "Graph Representation:\n",
    "\n",
    "followers = {\n",
    "\n",
    "'Alice': ['Bob', 'Charlie'],\n",
    "\n",
    "'Bob': ['Charlie', 'David'],\n",
    "\n",
    "'Charlie': ['David'],\n",
    "\n",
    "'David': ['Alice'],\n",
    "\n",
    "'Eve': ['Alice', 'Charlie']\n",
    "\n",
    "}\n",
    "\n",
    "Compute the PageRank scores and determine the most influential user."
   ]
  },
  {
   "cell_type": "code",
   "execution_count": null,
   "metadata": {},
   "outputs": [],
   "source": [
    "# Define the follower relationships whic is directed graph\n",
    "followers = {\n",
    "    'Alice': ['Bob', 'Charlie'],\n",
    "    'Bob': ['Charlie', 'David'],\n",
    "    'Charlie': ['David'],\n",
    "    'David': ['Alice'],\n",
    "    'Eve': ['Alice', 'Charlie']\n",
    "}"
   ]
  },
  {
   "cell_type": "code",
   "execution_count": 9,
   "metadata": {},
   "outputs": [
    {
     "name": "stdout",
     "output_type": "stream",
     "text": [
      "\n",
      "PageRank scores:\n",
      "David: 0.2926\n",
      "Alice: 0.2915\n",
      "Charlie: 0.2320\n",
      "Bob: 0.1539\n",
      "Eve: 0.0300\n",
      "\n",
      "The most influential user is: David\n"
     ]
    }
   ],
   "source": [
    "# Create a directed graph\n",
    "G_followers = nx.DiGraph()\n",
    "# Add nodes and edges to the graph\n",
    "for user, friends in followers.items():\n",
    "    G_followers.add_node(user)\n",
    "    for friend in friends:\n",
    "        G_followers.add_edge(user, friend)\n",
    "# COmpute page rank\n",
    "page_rank = nx.pagerank(G_followers)\n",
    "#sort users by pagerank score in descending order\n",
    "sorted_users = sorted(page_rank.items(), key=lambda x: x[1], reverse=True)\n",
    "\n",
    "#display the pagerank scores\n",
    "print(\"\\nPageRank scores:\")\n",
    "for user, score in sorted_users:\n",
    "    print(f\"{user}: {score:.4f}\")\n",
    "    #Iderntify the most influential user\\\n",
    "\n",
    "most_influential_user = sorted_users[0][0]\n",
    "print(f\"\\nThe most influential user is: {most_influential_user}\")"
   ]
  },
  {
   "cell_type": "markdown",
   "metadata": {},
   "source": [
    "# Question 3\n",
    "\n",
    "Question 3: Maximum Flow in a Water Distribution System (Ford-Fulkerson Algorithm) A city’s water supply system consists of reservoirs, pipelines, and distribution points. The system is represented as a directed graph, where nodes represent junctions (reservoirs or city areas) and edges represent water pipelines with capacity limits. Given the following network, where the source is S (reservoir) and the sink is T (city distribution center), use the Ford-Fulkerson algorithm to determine the maximum amount of water that can be transported to the city.\n",
    "Graph Representation (with capacities):\n",
    "\n",
    "water_network = {\n",
    "\n",
    "'S': {'A': 16, 'B': 13},\n",
    "\n",
    "'A': {'B': 10, 'C': 12},\n",
    "\n",
    "'B': {'D': 14},\n",
    "\n",
    "'C': {'B': 9, 'T': 20},\n",
    "\n",
    "'D': {'C': 7, 'T': 4},\n",
    "\n",
    "'T': {}\n",
    "\n",
    "}\n",
    "Write a Python program to compute the maximum flow from S to T"
   ]
  },
  {
   "cell_type": "code",
   "execution_count": 6,
   "metadata": {},
   "outputs": [],
   "source": [
    "# Define the water distribution network (directed graph with capacities)\n",
    "water_network = {\n",
    "    'S': {'A': 16, 'B': 13},\n",
    "    'A': {'B': 10, 'C': 12},\n",
    "    'B': {'D': 14},\n",
    "    'C': {'B': 9, 'T': 20},\n",
    "    'D': {'C': 7, 'T': 4},\n",
    "    'T': {}\n",
    "}\n"
   ]
  },
  {
   "cell_type": "code",
   "execution_count": 7,
   "metadata": {},
   "outputs": [
    {
     "name": "stdout",
     "output_type": "stream",
     "text": [
      "\n",
      "Maximum flow from S to T: 23\n",
      "Flow distribution:\n",
      "From S to A: 13\n",
      "From S to B: 10\n",
      "From A to B: 1\n",
      "From A to C: 12\n",
      "From B to D: 11\n",
      "From C to T: 19\n",
      "From D to C: 7\n",
      "From D to T: 4\n"
     ]
    }
   ],
   "source": [
    "#create a directed graph\n",
    "G_water = nx.DiGraph()\n",
    "# Add nodes and edges to the graph\n",
    "for node, edges in water_network.items():\n",
    "    G_water.add_node(node)\n",
    "    for neighbor, capacity in edges.items():\n",
    "        G_water.add_edge(node, neighbor, capacity=capacity)\n",
    "\n",
    "#define the source and sink nodes\n",
    "source_node = 'S'\n",
    "sink_node = 'T'\n",
    "# Compute the maximum flow using the Edmonds-Karp algorithm\n",
    "max_flow_value, flow_dict = nx.maximum_flow(G_water, source_node, sink_node)\n",
    "# Print the results\n",
    "print(f\"\\nMaximum flow from {source_node} to {sink_node}: {max_flow_value}\")\n",
    "print(\"Flow distribution:\")\n",
    "for u, flows in flow_dict.items():\n",
    "    for v, flow in flows.items():\n",
    "        if flow > 0:\n",
    "            print(f\"From {u} to {v}: {flow}\")"
   ]
  },
  {
   "cell_type": "markdown",
   "metadata": {},
   "source": []
  }
 ],
 "metadata": {
  "kernelspec": {
   "display_name": "base",
   "language": "python",
   "name": "python3"
  },
  "language_info": {
   "codemirror_mode": {
    "name": "ipython",
    "version": 3
   },
   "file_extension": ".py",
   "mimetype": "text/x-python",
   "name": "python",
   "nbconvert_exporter": "python",
   "pygments_lexer": "ipython3",
   "version": "3.12.2"
  }
 },
 "nbformat": 4,
 "nbformat_minor": 2
}
